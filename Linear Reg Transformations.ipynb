{
 "cells": [
  {
   "cell_type": "code",
   "execution_count": 7,
   "metadata": {},
   "outputs": [],
   "source": [
    "import pandas as pd\n",
    "import numpy as np\n",
    "\n",
    "import matplotlib.pyplot as plt\n",
    "\n",
    "%matplotlib inline "
   ]
  },
  {
   "cell_type": "code",
   "execution_count": 5,
   "metadata": {},
   "outputs": [
    {
     "data": {
      "text/html": [
       "<div>\n",
       "<style scoped>\n",
       "    .dataframe tbody tr th:only-of-type {\n",
       "        vertical-align: middle;\n",
       "    }\n",
       "\n",
       "    .dataframe tbody tr th {\n",
       "        vertical-align: top;\n",
       "    }\n",
       "\n",
       "    .dataframe thead th {\n",
       "        text-align: right;\n",
       "    }\n",
       "</style>\n",
       "<table border=\"1\" class=\"dataframe\">\n",
       "  <thead>\n",
       "    <tr style=\"text-align: right;\">\n",
       "      <th></th>\n",
       "      <th>x</th>\n",
       "      <th>y</th>\n",
       "    </tr>\n",
       "  </thead>\n",
       "  <tbody>\n",
       "    <tr>\n",
       "      <th>0</th>\n",
       "      <td>0</td>\n",
       "      <td>98</td>\n",
       "    </tr>\n",
       "    <tr>\n",
       "      <th>1</th>\n",
       "      <td>1</td>\n",
       "      <td>135</td>\n",
       "    </tr>\n",
       "    <tr>\n",
       "      <th>2</th>\n",
       "      <td>2</td>\n",
       "      <td>162</td>\n",
       "    </tr>\n",
       "    <tr>\n",
       "      <th>3</th>\n",
       "      <td>3</td>\n",
       "      <td>178</td>\n",
       "    </tr>\n",
       "    <tr>\n",
       "      <th>4</th>\n",
       "      <td>4</td>\n",
       "      <td>221</td>\n",
       "    </tr>\n",
       "    <tr>\n",
       "      <th>5</th>\n",
       "      <td>5</td>\n",
       "      <td>232</td>\n",
       "    </tr>\n",
       "    <tr>\n",
       "      <th>6</th>\n",
       "      <td>6</td>\n",
       "      <td>283</td>\n",
       "    </tr>\n",
       "    <tr>\n",
       "      <th>7</th>\n",
       "      <td>7</td>\n",
       "      <td>300</td>\n",
       "    </tr>\n",
       "    <tr>\n",
       "      <th>8</th>\n",
       "      <td>8</td>\n",
       "      <td>374</td>\n",
       "    </tr>\n",
       "    <tr>\n",
       "      <th>9</th>\n",
       "      <td>9</td>\n",
       "      <td>395</td>\n",
       "    </tr>\n",
       "  </tbody>\n",
       "</table>\n",
       "</div>"
      ],
      "text/plain": [
       "   x    y\n",
       "0  0   98\n",
       "1  1  135\n",
       "2  2  162\n",
       "3  3  178\n",
       "4  4  221\n",
       "5  5  232\n",
       "6  6  283\n",
       "7  7  300\n",
       "8  8  374\n",
       "9  9  395"
      ]
     },
     "execution_count": 5,
     "metadata": {},
     "output_type": "execute_result"
    }
   ],
   "source": [
    "data = pd.read_excel('data.xlsx')\n",
    "data"
   ]
  },
  {
   "cell_type": "code",
   "execution_count": 11,
   "metadata": {},
   "outputs": [
    {
     "data": {
      "text/plain": [
       "<matplotlib.collections.PathCollection at 0x2608d76cac8>"
      ]
     },
     "execution_count": 11,
     "metadata": {},
     "output_type": "execute_result"
    },
    {
     "data": {
      "image/png": "[encoded data removed]",
      "text/plain": [
       "<Figure size 432x288 with 1 Axes>"
      ]
     },
     "metadata": {
      "needs_background": "light"
     },
     "output_type": "display_data"
    }
   ],
   "source": [
    "plt.scatter(data.x, data.y)"
   ]
  },
  {
   "cell_type": "code",
   "execution_count": 13,
   "metadata": {},
   "outputs": [],
   "source": [
    "data['YSQR'] = np.sqrt(data[\"y\"])"
   ]
  },
  {
   "cell_type": "code",
   "execution_count": 14,
   "metadata": {},
   "outputs": [
    {
     "data": {
      "text/html": [
       "<div>\n",
       "<style scoped>\n",
       "    .dataframe tbody tr th:only-of-type {\n",
       "        vertical-align: middle;\n",
       "    }\n",
       "\n",
       "    .dataframe tbody tr th {\n",
       "        vertical-align: top;\n",
       "    }\n",
       "\n",
       "    .dataframe thead th {\n",
       "        text-align: right;\n",
       "    }\n",
       "</style>\n",
       "<table border=\"1\" class=\"dataframe\">\n",
       "  <thead>\n",
       "    <tr style=\"text-align: right;\">\n",
       "      <th></th>\n",
       "      <th>x</th>\n",
       "      <th>y</th>\n",
       "      <th>YSQR</th>\n",
       "    </tr>\n",
       "  </thead>\n",
       "  <tbody>\n",
       "    <tr>\n",
       "      <th>0</th>\n",
       "      <td>0</td>\n",
       "      <td>98</td>\n",
       "      <td>9.899495</td>\n",
       "    </tr>\n",
       "    <tr>\n",
       "      <th>1</th>\n",
       "      <td>1</td>\n",
       "      <td>135</td>\n",
       "      <td>11.618950</td>\n",
       "    </tr>\n",
       "    <tr>\n",
       "      <th>2</th>\n",
       "      <td>2</td>\n",
       "      <td>162</td>\n",
       "      <td>12.727922</td>\n",
       "    </tr>\n",
       "    <tr>\n",
       "      <th>3</th>\n",
       "      <td>3</td>\n",
       "      <td>178</td>\n",
       "      <td>13.341664</td>\n",
       "    </tr>\n",
       "    <tr>\n",
       "      <th>4</th>\n",
       "      <td>4</td>\n",
       "      <td>221</td>\n",
       "      <td>14.866069</td>\n",
       "    </tr>\n",
       "    <tr>\n",
       "      <th>5</th>\n",
       "      <td>5</td>\n",
       "      <td>232</td>\n",
       "      <td>15.231546</td>\n",
       "    </tr>\n",
       "    <tr>\n",
       "      <th>6</th>\n",
       "      <td>6</td>\n",
       "      <td>283</td>\n",
       "      <td>16.822604</td>\n",
       "    </tr>\n",
       "    <tr>\n",
       "      <th>7</th>\n",
       "      <td>7</td>\n",
       "      <td>300</td>\n",
       "      <td>17.320508</td>\n",
       "    </tr>\n",
       "    <tr>\n",
       "      <th>8</th>\n",
       "      <td>8</td>\n",
       "      <td>374</td>\n",
       "      <td>19.339080</td>\n",
       "    </tr>\n",
       "    <tr>\n",
       "      <th>9</th>\n",
       "      <td>9</td>\n",
       "      <td>395</td>\n",
       "      <td>19.874607</td>\n",
       "    </tr>\n",
       "  </tbody>\n",
       "</table>\n",
       "</div>"
      ],
      "text/plain": [
       "   x    y       YSQR\n",
       "0  0   98   9.899495\n",
       "1  1  135  11.618950\n",
       "2  2  162  12.727922\n",
       "3  3  178  13.341664\n",
       "4  4  221  14.866069\n",
       "5  5  232  15.231546\n",
       "6  6  283  16.822604\n",
       "7  7  300  17.320508\n",
       "8  8  374  19.339080\n",
       "9  9  395  19.874607"
      ]
     },
     "execution_count": 14,
     "metadata": {},
     "output_type": "execute_result"
    }
   ],
   "source": [
    "data"
   ]
  },
  {
   "cell_type": "code",
   "execution_count": 16,
   "metadata": {},
   "outputs": [
    {
     "data": {
      "text/plain": [
       "10"
      ]
     },
     "execution_count": 16,
     "metadata": {},
     "output_type": "execute_result"
    }
   ],
   "source": [
    "len(data)"
   ]
  },
  {
   "cell_type": "code",
   "execution_count": 30,
   "metadata": {},
   "outputs": [
    {
     "data": {
      "text/plain": [
       "(10.260931495938804, 1.076291767499809)"
      ]
     },
     "execution_count": 30,
     "metadata": {},
     "output_type": "execute_result"
    }
   ],
   "source": [
    "\n",
    "#      Sum(X^2)Sum(Y) - Sum(X)Sum(XY) \n",
    "# b0 = ------------------------------\n",
    "#         n Sum(X^2)  - Sum(X)^2\n",
    "    \n",
    "#      n Sum(XY) - Sum(X)Sum(Y)\n",
    "# b1 = ------------------------------\n",
    "#         n Sum(X^2)  - Sum(X)^2\n",
    "\n",
    "## Yhat = b0 + b1 X\n",
    "\n",
    "##Transforming Y --> Sqrt(Y)\n",
    "## getting the linear regression funtion\n",
    "\n",
    "X = data.x\n",
    "y = data.YSQR\n",
    "n = len(data)\n",
    "\n",
    "SX2 = np.sum(X**2)\n",
    "SX  = np.sum(X)\n",
    "SY  = np.sum(y)\n",
    "SXY = np.sum(X*y)\n",
    "\n",
    "lower = n* SX2 - SX**2\n",
    "\n",
    "b0 = ((SX2 * SY) - (SX*SXY)) / lower\n",
    "\n",
    "b1 = (n*SXY - SX*SY) / lower\n",
    "\n",
    "b0, b1"
   ]
  },
  {
   "cell_type": "code",
   "execution_count": 34,
   "metadata": {},
   "outputs": [
    {
     "data": {
      "text/plain": [
       "array([10.2609315 ,  1.07629177])"
      ]
     },
     "execution_count": 34,
     "metadata": {},
     "output_type": "execute_result"
    }
   ],
   "source": [
    "## Same result from polynomial package\n",
    "from numpy.polynomial.polynomial import polyfit\n",
    "polyfit(X,y, 1)"
   ]
  },
  {
   "cell_type": "code",
   "execution_count": 35,
   "metadata": {},
   "outputs": [
    {
     "data": {
      "text/plain": [
       "[<matplotlib.lines.Line2D at 0x26094417908>]"
      ]
     },
     "execution_count": 35,
     "metadata": {},
     "output_type": "execute_result"
    },
    {
     "data": {
      "image/png": "[encoded data removed]",
      "text/plain": [
       "<Figure size 432x288 with 1 Axes>"
      ]
     },
     "metadata": {
      "needs_background": "light"
     },
     "output_type": "display_data"
    }
   ],
   "source": [
    "plt.plot(X,y, '.')\n",
    "plt.plot(X, b0+b1*X)"
   ]
  },
  {
   "cell_type": "code",
   "execution_count": 38,
   "metadata": {},
   "outputs": [
    {
     "data": {
      "text/html": [
       "<div>\n",
       "<style scoped>\n",
       "    .dataframe tbody tr th:only-of-type {\n",
       "        vertical-align: middle;\n",
       "    }\n",
       "\n",
       "    .dataframe tbody tr th {\n",
       "        vertical-align: top;\n",
       "    }\n",
       "\n",
       "    .dataframe thead th {\n",
       "        text-align: right;\n",
       "    }\n",
       "</style>\n",
       "<table border=\"1\" class=\"dataframe\">\n",
       "  <thead>\n",
       "    <tr style=\"text-align: right;\">\n",
       "      <th></th>\n",
       "      <th>x</th>\n",
       "      <th>y</th>\n",
       "      <th>YSQR</th>\n",
       "      <th>yhat</th>\n",
       "      <th>e</th>\n",
       "    </tr>\n",
       "  </thead>\n",
       "  <tbody>\n",
       "    <tr>\n",
       "      <th>0</th>\n",
       "      <td>0</td>\n",
       "      <td>98</td>\n",
       "      <td>9.899495</td>\n",
       "      <td>10.260931</td>\n",
       "      <td>-0.361437</td>\n",
       "    </tr>\n",
       "    <tr>\n",
       "      <th>1</th>\n",
       "      <td>1</td>\n",
       "      <td>135</td>\n",
       "      <td>11.618950</td>\n",
       "      <td>11.337223</td>\n",
       "      <td>0.281727</td>\n",
       "    </tr>\n",
       "    <tr>\n",
       "      <th>2</th>\n",
       "      <td>2</td>\n",
       "      <td>162</td>\n",
       "      <td>12.727922</td>\n",
       "      <td>12.413515</td>\n",
       "      <td>0.314407</td>\n",
       "    </tr>\n",
       "    <tr>\n",
       "      <th>3</th>\n",
       "      <td>3</td>\n",
       "      <td>178</td>\n",
       "      <td>13.341664</td>\n",
       "      <td>13.489807</td>\n",
       "      <td>-0.148143</td>\n",
       "    </tr>\n",
       "    <tr>\n",
       "      <th>4</th>\n",
       "      <td>4</td>\n",
       "      <td>221</td>\n",
       "      <td>14.866069</td>\n",
       "      <td>14.566099</td>\n",
       "      <td>0.299970</td>\n",
       "    </tr>\n",
       "    <tr>\n",
       "      <th>5</th>\n",
       "      <td>5</td>\n",
       "      <td>232</td>\n",
       "      <td>15.231546</td>\n",
       "      <td>15.642390</td>\n",
       "      <td>-0.410844</td>\n",
       "    </tr>\n",
       "    <tr>\n",
       "      <th>6</th>\n",
       "      <td>6</td>\n",
       "      <td>283</td>\n",
       "      <td>16.822604</td>\n",
       "      <td>16.718682</td>\n",
       "      <td>0.103922</td>\n",
       "    </tr>\n",
       "    <tr>\n",
       "      <th>7</th>\n",
       "      <td>7</td>\n",
       "      <td>300</td>\n",
       "      <td>17.320508</td>\n",
       "      <td>17.794974</td>\n",
       "      <td>-0.474466</td>\n",
       "    </tr>\n",
       "    <tr>\n",
       "      <th>8</th>\n",
       "      <td>8</td>\n",
       "      <td>374</td>\n",
       "      <td>19.339080</td>\n",
       "      <td>18.871266</td>\n",
       "      <td>0.467814</td>\n",
       "    </tr>\n",
       "    <tr>\n",
       "      <th>9</th>\n",
       "      <td>9</td>\n",
       "      <td>395</td>\n",
       "      <td>19.874607</td>\n",
       "      <td>19.947557</td>\n",
       "      <td>-0.072950</td>\n",
       "    </tr>\n",
       "  </tbody>\n",
       "</table>\n",
       "</div>"
      ],
      "text/plain": [
       "   x    y       YSQR       yhat         e\n",
       "0  0   98   9.899495  10.260931 -0.361437\n",
       "1  1  135  11.618950  11.337223  0.281727\n",
       "2  2  162  12.727922  12.413515  0.314407\n",
       "3  3  178  13.341664  13.489807 -0.148143\n",
       "4  4  221  14.866069  14.566099  0.299970\n",
       "5  5  232  15.231546  15.642390 -0.410844\n",
       "6  6  283  16.822604  16.718682  0.103922\n",
       "7  7  300  17.320508  17.794974 -0.474466\n",
       "8  8  374  19.339080  18.871266  0.467814\n",
       "9  9  395  19.874607  19.947557 -0.072950"
      ]
     },
     "execution_count": 38,
     "metadata": {},
     "output_type": "execute_result"
    }
   ],
   "source": [
    "## Obtain residuals\n",
    "data['yhat'] = b0 + b1*X\n",
    "data['e'] = data.YSQR - data.yhat\n",
    "data"
   ]
  },
  {
   "cell_type": "code",
   "execution_count": 73,
   "metadata": {},
   "outputs": [
    {
     "data": {
      "text/plain": [
       "<matplotlib.collections.PathCollection at 0x2609c4ef780>"
      ]
     },
     "execution_count": 73,
     "metadata": {},
     "output_type": "execute_result"
    },
    {
     "data": {
      "image/png": "[encoded data removed]",
      "text/plain": [
       "<Figure size 432x288 with 1 Axes>"
      ]
     },
     "metadata": {
      "needs_background": "light"
     },
     "output_type": "display_data"
    }
   ],
   "source": [
    "plt.title(\"Residual Plot\")\n",
    "plt.xlabel(\"Fitted Values (Y-hat)\")\n",
    "plt.ylabel(\"Residual\")\n",
    "plt.scatter(data.yhat, data.e)"
   ]
  },
  {
   "cell_type": "markdown",
   "metadata": {},
   "source": [
    "##### Variability appear to be Fairly constant"
   ]
  },
  {
   "cell_type": "markdown",
   "metadata": {},
   "source": [
    "## Normal Probability plot"
   ]
  },
  {
   "cell_type": "code",
   "execution_count": 46,
   "metadata": {},
   "outputs": [],
   "source": [
    "import scipy.stats as st"
   ]
  },
  {
   "cell_type": "code",
   "execution_count": 63,
   "metadata": {},
   "outputs": [],
   "source": [
    "SSE = np.sum( (data.YSQR - data.yhat)**2 )\n",
    "MSE = SSE / (n-2)\n",
    "\n",
    "data['i/n'] =  np.array(data.index / n)\n",
    "data['z(i/n)'] = st.norm.ppf(data['i/n'])\n",
    "\n",
    "data['Ordered_Res'] = np.sort(data.e)\n",
    "data['Expected_Values']= data['z(i/n)'] * MSE"
   ]
  },
  {
   "cell_type": "code",
   "execution_count": 74,
   "metadata": {},
   "outputs": [
    {
     "data": {
      "text/html": [
       "<div>\n",
       "<style scoped>\n",
       "    .dataframe tbody tr th:only-of-type {\n",
       "        vertical-align: middle;\n",
       "    }\n",
       "\n",
       "    .dataframe tbody tr th {\n",
       "        vertical-align: top;\n",
       "    }\n",
       "\n",
       "    .dataframe thead th {\n",
       "        text-align: right;\n",
       "    }\n",
       "</style>\n",
       "<table border=\"1\" class=\"dataframe\">\n",
       "  <thead>\n",
       "    <tr style=\"text-align: right;\">\n",
       "      <th></th>\n",
       "      <th>x</th>\n",
       "      <th>y</th>\n",
       "      <th>YSQR</th>\n",
       "      <th>yhat</th>\n",
       "      <th>e</th>\n",
       "      <th>i/n</th>\n",
       "      <th>Ordered_Res</th>\n",
       "      <th>z(i/n)</th>\n",
       "      <th>Expected_Values</th>\n",
       "    </tr>\n",
       "  </thead>\n",
       "  <tbody>\n",
       "    <tr>\n",
       "      <th>0</th>\n",
       "      <td>0</td>\n",
       "      <td>98</td>\n",
       "      <td>9.899495</td>\n",
       "      <td>10.260931</td>\n",
       "      <td>-0.361437</td>\n",
       "      <td>0.0</td>\n",
       "      <td>-0.474466</td>\n",
       "      <td>-inf</td>\n",
       "      <td>-inf</td>\n",
       "    </tr>\n",
       "    <tr>\n",
       "      <th>1</th>\n",
       "      <td>1</td>\n",
       "      <td>135</td>\n",
       "      <td>11.618950</td>\n",
       "      <td>11.337223</td>\n",
       "      <td>0.281727</td>\n",
       "      <td>0.1</td>\n",
       "      <td>-0.410844</td>\n",
       "      <td>-1.281552</td>\n",
       "      <td>-0.168151</td>\n",
       "    </tr>\n",
       "    <tr>\n",
       "      <th>2</th>\n",
       "      <td>2</td>\n",
       "      <td>162</td>\n",
       "      <td>12.727922</td>\n",
       "      <td>12.413515</td>\n",
       "      <td>0.314407</td>\n",
       "      <td>0.2</td>\n",
       "      <td>-0.361437</td>\n",
       "      <td>-0.841621</td>\n",
       "      <td>-0.110428</td>\n",
       "    </tr>\n",
       "    <tr>\n",
       "      <th>3</th>\n",
       "      <td>3</td>\n",
       "      <td>178</td>\n",
       "      <td>13.341664</td>\n",
       "      <td>13.489807</td>\n",
       "      <td>-0.148143</td>\n",
       "      <td>0.3</td>\n",
       "      <td>-0.148143</td>\n",
       "      <td>-0.524401</td>\n",
       "      <td>-0.068806</td>\n",
       "    </tr>\n",
       "    <tr>\n",
       "      <th>4</th>\n",
       "      <td>4</td>\n",
       "      <td>221</td>\n",
       "      <td>14.866069</td>\n",
       "      <td>14.566099</td>\n",
       "      <td>0.299970</td>\n",
       "      <td>0.4</td>\n",
       "      <td>-0.072950</td>\n",
       "      <td>-0.253347</td>\n",
       "      <td>-0.033241</td>\n",
       "    </tr>\n",
       "    <tr>\n",
       "      <th>5</th>\n",
       "      <td>5</td>\n",
       "      <td>232</td>\n",
       "      <td>15.231546</td>\n",
       "      <td>15.642390</td>\n",
       "      <td>-0.410844</td>\n",
       "      <td>0.5</td>\n",
       "      <td>0.103922</td>\n",
       "      <td>0.000000</td>\n",
       "      <td>0.000000</td>\n",
       "    </tr>\n",
       "    <tr>\n",
       "      <th>6</th>\n",
       "      <td>6</td>\n",
       "      <td>283</td>\n",
       "      <td>16.822604</td>\n",
       "      <td>16.718682</td>\n",
       "      <td>0.103922</td>\n",
       "      <td>0.6</td>\n",
       "      <td>0.281727</td>\n",
       "      <td>0.253347</td>\n",
       "      <td>0.033241</td>\n",
       "    </tr>\n",
       "    <tr>\n",
       "      <th>7</th>\n",
       "      <td>7</td>\n",
       "      <td>300</td>\n",
       "      <td>17.320508</td>\n",
       "      <td>17.794974</td>\n",
       "      <td>-0.474466</td>\n",
       "      <td>0.7</td>\n",
       "      <td>0.299970</td>\n",
       "      <td>0.524401</td>\n",
       "      <td>0.068806</td>\n",
       "    </tr>\n",
       "    <tr>\n",
       "      <th>8</th>\n",
       "      <td>8</td>\n",
       "      <td>374</td>\n",
       "      <td>19.339080</td>\n",
       "      <td>18.871266</td>\n",
       "      <td>0.467814</td>\n",
       "      <td>0.8</td>\n",
       "      <td>0.314407</td>\n",
       "      <td>0.841621</td>\n",
       "      <td>0.110428</td>\n",
       "    </tr>\n",
       "    <tr>\n",
       "      <th>9</th>\n",
       "      <td>9</td>\n",
       "      <td>395</td>\n",
       "      <td>19.874607</td>\n",
       "      <td>19.947557</td>\n",
       "      <td>-0.072950</td>\n",
       "      <td>0.9</td>\n",
       "      <td>0.467814</td>\n",
       "      <td>1.281552</td>\n",
       "      <td>0.168151</td>\n",
       "    </tr>\n",
       "  </tbody>\n",
       "</table>\n",
       "</div>"
      ],
      "text/plain": [
       "   x    y       YSQR       yhat         e  i/n  Ordered_Res    z(i/n)  \\\n",
       "0  0   98   9.899495  10.260931 -0.361437  0.0    -0.474466      -inf   \n",
       "1  1  135  11.618950  11.337223  0.281727  0.1    -0.410844 -1.281552   \n",
       "2  2  162  12.727922  12.413515  0.314407  0.2    -0.361437 -0.841621   \n",
       "3  3  178  13.341664  13.489807 -0.148143  0.3    -0.148143 -0.524401   \n",
       "4  4  221  14.866069  14.566099  0.299970  0.4    -0.072950 -0.253347   \n",
       "5  5  232  15.231546  15.642390 -0.410844  0.5     0.103922  0.000000   \n",
       "6  6  283  16.822604  16.718682  0.103922  0.6     0.281727  0.253347   \n",
       "7  7  300  17.320508  17.794974 -0.474466  0.7     0.299970  0.524401   \n",
       "8  8  374  19.339080  18.871266  0.467814  0.8     0.314407  0.841621   \n",
       "9  9  395  19.874607  19.947557 -0.072950  0.9     0.467814  1.281552   \n",
       "\n",
       "   Expected_Values  \n",
       "0             -inf  \n",
       "1        -0.168151  \n",
       "2        -0.110428  \n",
       "3        -0.068806  \n",
       "4        -0.033241  \n",
       "5         0.000000  \n",
       "6         0.033241  \n",
       "7         0.068806  \n",
       "8         0.110428  \n",
       "9         0.168151  "
      ]
     },
     "execution_count": 74,
     "metadata": {},
     "output_type": "execute_result"
    }
   ],
   "source": [
    "data"
   ]
  },
  {
   "cell_type": "code",
   "execution_count": 72,
   "metadata": {},
   "outputs": [
    {
     "data": {
      "text/plain": [
       "<matplotlib.collections.PathCollection at 0x2609c566828>"
      ]
     },
     "execution_count": 72,
     "metadata": {},
     "output_type": "execute_result"
    },
    {
     "data": {
      "image/png": "[encoded data removed]",
      "text/plain": [
       "<Figure size 432x288 with 1 Axes>"
      ]
     },
     "metadata": {
      "needs_background": "light"
     },
     "output_type": "display_data"
    }
   ],
   "source": [
    "plt.title(\"Normal Probability Plot\")\n",
    "plt.xlabel(\"Expected_Values\")\n",
    "plt.ylabel(\"Ordered Residuals\")\n",
    "plt.scatter(data['Expected_Values'], data['Ordered_Res'])"
   ]
  },
  {
   "cell_type": "markdown",
   "metadata": {},
   "source": [
    "######    <b style=\"color:red\"> Correlation Coefficient</b> between Expected Values and Ordered Residual is high enough to prove that \n",
    "######    the <b style=\"color:red\"> appropriatness </b>of Linear regression model of <b style=\"color:red\">transformed Y </b>"
   ]
  }
 ],
 "metadata": {
  "kernelspec": {
   "display_name": "Python 3",
   "language": "python",
   "name": "python3"
  },
  "language_info": {
   "codemirror_mode": {
    "name": "ipython",
    "version": 3
   },
   "file_extension": ".py",
   "mimetype": "text/x-python",
   "name": "python",
   "nbconvert_exporter": "python",
   "pygments_lexer": "ipython3",
   "version": "3.7.2"
  }
 },
 "nbformat": 4,
 "nbformat_minor": 2
}
